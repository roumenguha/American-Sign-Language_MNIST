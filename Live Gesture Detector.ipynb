{
 "cells": [
  {
   "cell_type": "code",
   "execution_count": 1,
   "metadata": {},
   "outputs": [],
   "source": [
    "import os\n",
    "import numpy as np\n",
    "import cv2\n",
    "\n",
    "# PyTorch\n",
    "import torch\n",
    "from torch import cuda\n",
    "import torch.nn as nn\n",
    "\n",
    "from torchvision import models"
   ]
  },
  {
   "cell_type": "code",
   "execution_count": 2,
   "metadata": {
    "scrolled": true
   },
   "outputs": [
    {
     "name": "stdout",
     "output_type": "stream",
     "text": [
      "C:\\Users\\roume\\Documents\\GitHub\\American-Sign-Language_MNIST\n",
      "Train on GPU: True\n",
      "1 GPU(s) detected.\n"
     ]
    }
   ],
   "source": [
    "# Location of data (.pth file must be located here)\n",
    "print(os.getcwd())\n",
    "\n",
    "# Whether to train on a GPU\n",
    "train_on_gpu = cuda.is_available()\n",
    "print(f'Train on GPU: {train_on_gpu}')\n",
    "\n",
    "# Number of gpus\n",
    "if train_on_gpu:\n",
    "    gpu_count = cuda.device_count()\n",
    "    print(f'{gpu_count} GPU(s) detected.')\n",
    "    if gpu_count > 1:\n",
    "        multi_gpu = True\n",
    "    else:\n",
    "        multi_gpu = False"
   ]
  },
  {
   "cell_type": "code",
   "execution_count": 3,
   "metadata": {},
   "outputs": [],
   "source": [
    "def load_checkpoint(path):\n",
    "    \"\"\"Load a PyTorch model checkpoint\n",
    "\n",
    "    Params\n",
    "    --------\n",
    "        path (str): saved model checkpoint. Must start with `model_name-` and end in '.pth'\n",
    "\n",
    "    Returns\n",
    "    --------\n",
    "        None, save the `model` to `path`\n",
    "\n",
    "    \"\"\"\n",
    "\n",
    "    # Get the model name\n",
    "    model_name = path.split('-')[0]\n",
    "    assert (model_name in ['vgg16', 'resnet50'\n",
    "                          ]), \"Path must have the correct model name\"\n",
    "    \n",
    "    # Load in checkpoint\n",
    "    checkpoint = torch.load(path)\n",
    "    #print(checkpoint)\n",
    "    if model_name == 'vgg16':\n",
    "        model = models.vgg16(pretrained=True)\n",
    "        # Make sure to set parameters as not trainable\n",
    "        for param in model.parameters():\n",
    "            param.requires_grad = False\n",
    "        model.classifier = checkpoint['classifier']\n",
    "\n",
    "    elif model_name == 'resnet50':\n",
    "        model = models.resnet50(pretrained=True)\n",
    "        # Make sure to set parameters as not trainable\n",
    "        for param in model.parameters():\n",
    "            param.requires_grad = False\n",
    "        model.fc = checkpoint['fc']\n",
    "\n",
    "    # Load in the state dict\n",
    "    model.load_state_dict(checkpoint['state_dict'])\n",
    "\n",
    "    total_params = sum(p.numel() for p in model.parameters())\n",
    "    print(f'{total_params:,} total parameters.')\n",
    "    total_trainable_params = sum(\n",
    "        p.numel() for p in model.parameters() if p.requires_grad)\n",
    "    print(f'{total_trainable_params:,} total gradient parameters.')\n",
    "\n",
    "    # Move to GPU\n",
    "    if multi_gpu:\n",
    "        model = nn.DataParallel(model)\n",
    "\n",
    "    if train_on_gpu:\n",
    "        model = model.to('cuda')\n",
    "\n",
    "    # Model basics\n",
    "    model.class_to_idx = checkpoint['class_to_idx']\n",
    "    model.idx_to_class = checkpoint['idx_to_class']\n",
    "    model.epochs = checkpoint['epochs']\n",
    "\n",
    "    # Optimizer\n",
    "    optimizer = checkpoint['optimizer']\n",
    "    optimizer.load_state_dict(checkpoint['optimizer_state_dict'])\n",
    "\n",
    "    return model, optimizer"
   ]
  },
  {
   "cell_type": "code",
   "execution_count": 4,
   "metadata": {},
   "outputs": [],
   "source": [
    "def predict(image, model, topk=5):\n",
    "    \"\"\"Make a prediction for an image using a trained model\n",
    "\n",
    "    Params\n",
    "    --------\n",
    "        image_path (str): filename of the image\n",
    "        model (PyTorch model): trained model for inference\n",
    "        topk (int): number of top predictions to return\n",
    "\n",
    "    Returns\n",
    "\n",
    "    \"\"\"\n",
    "    \n",
    "    # Convert to PyTorch tensor\n",
    "    img_tensor = image\n",
    "\n",
    "    # Resize\n",
    "    if train_on_gpu:\n",
    "        img_tensor = img_tensor.view(1, 3, 224, 224).cuda()\n",
    "    else:\n",
    "        img_tensor = img_tensor.view(1, 3, 224, 224)\n",
    "\n",
    "    # Set to evaluation\n",
    "    with torch.no_grad():\n",
    "        model.eval()\n",
    "        # Model outputs log probabilities\n",
    "        out = model(img_tensor)\n",
    "        ps = torch.exp(out)\n",
    "\n",
    "        # Find the topk predictions\n",
    "        topk, topclass = ps.topk(topk, dim=1)\n",
    "\n",
    "        # Extract the actual classes and probabilities\n",
    "        top_classes = [\n",
    "            model.idx_to_class[class_] for class_ in topclass.cpu().numpy()[0]\n",
    "        ]\n",
    "        top_p = topk.cpu().numpy()[0]\n",
    "\n",
    "        return img_tensor.cpu().squeeze(), top_p, top_classes"
   ]
  },
  {
   "cell_type": "code",
   "execution_count": 5,
   "metadata": {},
   "outputs": [],
   "source": [
    "def process_image(img):\n",
    "    \"\"\"Process an image path into a PyTorch tensor\"\"\"\n",
    "    # Convert to numpy, transpose color dimension and normalize\n",
    "\n",
    "    # ImageNet Standardization\n",
    "    means = np.array([0.485, 0.456, 0.406]).reshape((3, 1, 1))\n",
    "    stds = np.array([0.229, 0.224, 0.225]).reshape((3, 1, 1))\n",
    "\n",
    "    img = img - means\n",
    "    img = img / stds\n",
    "\n",
    "    img_tensor = torch.Tensor(img)\n",
    "\n",
    "    return img_tensor"
   ]
  },
  {
   "cell_type": "code",
   "execution_count": 8,
   "metadata": {},
   "outputs": [
    {
     "name": "stdout",
     "output_type": "stream",
     "text": [
      "resnet50\n",
      "24,166,725 total parameters.\n",
      "658,693 total gradient parameters.\n"
     ]
    }
   ],
   "source": [
    "model, _ = load_checkpoint(path='resnet50-transfer-16-epochs-97%-training-97%-validation.pth')"
   ]
  },
  {
   "cell_type": "code",
   "execution_count": null,
   "metadata": {
    "scrolled": false
   },
   "outputs": [],
   "source": [
    "cap = cv2.VideoCapture(0)\n",
    "x1, y1, x2, y2 = 300, 300, 500, 500\n",
    "while(True):\n",
    "    # Capture frame-by-frame\n",
    "    ret, frame = cap.read()\n",
    "\n",
    "    frame = frame / 256.0\n",
    "    img_cropped = cv2.resize(frame, (224, 224), interpolation=cv2.INTER_AREA)\n",
    "    \n",
    "    x = np.transpose(img_cropped, (2, 0, 1))\n",
    "    x = process_image(x) # torch.from_numpy(x).float()\n",
    "\n",
    "    img, top_p, top_classes = predict(x, model)\n",
    "    cv2.putText(img_cropped, '%s' % (top_classes[0]), (100, 200), cv2.FONT_HERSHEY_SIMPLEX, 4, (255, 255, 255), 4)\n",
    "    cv2.putText(img_cropped, '(score = %.5f)' % (float(top_p[0])), (100, 250), cv2.FONT_HERSHEY_SIMPLEX, 1, (255, 255, 255))\n",
    "    cv2.rectangle(img_cropped, (x1, y1), (x2, y2), (255, 0, 0), 2)\n",
    "    cv2.imshow(\"img\", img_cropped)\n",
    "    \n",
    "    # Display the resulting frame\n",
    "    if cv2.waitKey(1) & 0xFF == ord('q'):\n",
    "        break\n",
    "\n",
    "# When everything's done, release the capture\n",
    "cap.release()\n",
    "cv2.destroyAllWindows()"
   ]
  },
  {
   "cell_type": "code",
   "execution_count": null,
   "metadata": {},
   "outputs": [],
   "source": []
  }
 ],
 "metadata": {
  "kernelspec": {
   "display_name": "Python 3",
   "language": "python",
   "name": "python3"
  },
  "language_info": {
   "codemirror_mode": {
    "name": "ipython",
    "version": 3
   },
   "file_extension": ".py",
   "mimetype": "text/x-python",
   "name": "python",
   "nbconvert_exporter": "python",
   "pygments_lexer": "ipython3",
   "version": "3.7.7"
  }
 },
 "nbformat": 4,
 "nbformat_minor": 2
}
