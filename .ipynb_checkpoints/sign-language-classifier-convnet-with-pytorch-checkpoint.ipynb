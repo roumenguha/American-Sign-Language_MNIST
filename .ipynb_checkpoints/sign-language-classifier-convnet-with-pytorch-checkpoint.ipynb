{
 "cells": [
  {
   "cell_type": "markdown",
   "metadata": {
    "_uuid": "fe2afb62c6d3a9c55a79f07b8ef63ef0d5fbc186"
   },
   "source": [
    "In this work I classify images of sign language letters with convolutional network using PyTorch. \n",
    "\n",
    "First, let's import everything we need for work: "
   ]
  },
  {
   "cell_type": "code",
   "execution_count": 1,
   "metadata": {
    "_uuid": "ce55214b9aab4f60c0923ff91d51fc3828d81911"
   },
   "outputs": [],
   "source": [
    "import os\n",
    "import random\n",
    "import numpy as np\n",
    "\n",
    "import pandas as pd\n",
    "import matplotlib.pyplot as plt\n",
    "import seaborn as sns\n",
    "\n",
    "import torch\n",
    "import torchvision\n",
    "import torch.nn as nn\n",
    "import torch.nn.functional as F\n",
    "import torch.optim as optim\n",
    "from torch.autograd import Variable\n",
    "\n",
    "%matplotlib inline"
   ]
  },
  {
   "cell_type": "code",
   "execution_count": 2,
   "metadata": {},
   "outputs": [
    {
     "name": "stdout",
     "output_type": "stream",
     "text": [
      "cuda:0\n"
     ]
    }
   ],
   "source": [
    "pytorch_device = torch.device(\"cuda:0\" if torch.cuda.is_available() else \"cpu\")\n",
    "print(pytorch_device)"
   ]
  },
  {
   "cell_type": "code",
   "execution_count": null,
   "metadata": {
    "_uuid": "bbb6055136327e8b369706765d706ee97cc15a4e"
   },
   "outputs": [],
   "source": [
    "data_raw = pd.read_csv('./sign_mnist_train.csv', sep=\",\")\n",
    "test_data_raw = pd.read_csv('./sign_mnist_test.csv', sep=\",\")\n",
    "\n",
    "labels = data_raw['label']\n",
    "data_raw.drop('label', axis=1, inplace=True)\n",
    "labels_test = test_data_raw['label']\n",
    "test_data_raw.drop('label', axis=1, inplace=True)\n",
    "\n",
    "data = data_raw.values\n",
    "labels = labels.values\n",
    "test_data = test_data_raw.values\n",
    "labels_test = labels_test.values\n",
    "\n",
    "data_raw.head()"
   ]
  },
  {
   "cell_type": "code",
   "execution_count": null,
   "metadata": {
    "_uuid": "9cbb2039b83c25881b8f454b04517a25a69d8129"
   },
   "outputs": [],
   "source": [
    "plt.figure(figsize=(10, 8))\n",
    "\n",
    "pixels = data[10].reshape(28, 28)\n",
    "plt.subplot(221)\n",
    "sns.heatmap(data=pixels)\n",
    "\n",
    "pixels = data[11].reshape(28, 28)\n",
    "plt.subplot(222)\n",
    "sns.heatmap(data=pixels)\n",
    "\n",
    "pixels = data[20].reshape(28, 28)\n",
    "plt.subplot(223)\n",
    "sns.heatmap(data=pixels)\n",
    "\n",
    "pixels = data[32].reshape(28, 28)\n",
    "plt.subplot(224)\n",
    "sns.heatmap(data=pixels)"
   ]
  },
  {
   "cell_type": "code",
   "execution_count": null,
   "metadata": {
    "_uuid": "c2ae9f93e79d62db9ce744a3166ffed5d00455ec"
   },
   "outputs": [],
   "source": [
    "import string\n",
    "\n",
    "alph = {0:'a', 1:'b', 2:'c', 3:'d', 4:'e', 5:\"f\", 6:'g', 7:'h', 8:'i', 9:'j', 10:'k', 11:'l', 12:'m', 13:'n',\n",
    "        14:'o', 15:'p', 16:'q', 17:'r', 18:'s', 19:'t', 20:'u', 21:'v', 22:'w', 23:'x', 24:'y', 25:'z'}"
   ]
  },
  {
   "cell_type": "code",
   "execution_count": null,
   "metadata": {
    "_uuid": "5585b1cd3e26251e75472acc7077207fccb040c4"
   },
   "outputs": [],
   "source": [
    "def reshape_to_2d(data, dim):\n",
    "    reshaped = []\n",
    "    for i in data:\n",
    "        reshaped.append(i.reshape(1, dim, dim))\n",
    "\n",
    "    return np.array(reshaped)"
   ]
  },
  {
   "cell_type": "code",
   "execution_count": null,
   "metadata": {
    "_uuid": "22413bb7576315252946b7e70fb0c61436a52250"
   },
   "outputs": [],
   "source": [
    "data = reshape_to_2d(data, 28)\n",
    "\n",
    "x = torch.FloatTensor(data)\n",
    "y = torch.LongTensor(labels.tolist())\n",
    "\n",
    "test_labels = torch.LongTensor(labels_test.tolist())\n",
    "\n",
    "test_data_formated = reshape_to_2d(test_data, 28)\n",
    "test_data_formated = torch.FloatTensor(test_data_formated)"
   ]
  },
  {
   "cell_type": "code",
   "execution_count": null,
   "metadata": {
    "_uuid": "c91ee5874a8f7d42bbc1937de0e372e19470eb88"
   },
   "outputs": [],
   "source": [
    "epochs = 50\n",
    "batch_size = 100\n",
    "learning_rate = 0.003\n",
    "momentum = 0.7\n",
    "num_classes = 26"
   ]
  },
  {
   "cell_type": "code",
   "execution_count": null,
   "metadata": {
    "_uuid": "4a2b720cba67b494514400a97ff55d3a272233e6"
   },
   "outputs": [],
   "source": [
    "class Network(nn.Module): \n",
    "    \n",
    "    def __init__(self):\n",
    "        super(Network, self).__init__()\n",
    "        self.conv1 = nn.Conv2d(in_channels=1, out_channels=64, kernel_size=3)\n",
    "        self.pool1 = nn.MaxPool2d(2)\n",
    "        \n",
    "        self.conv2 = nn.Conv2d(in_channels=64, out_channels=192, kernel_size=3)\n",
    "        self.pool2 = nn.MaxPool2d(2)\n",
    "        \n",
    "        self.conv3 = nn.Conv2d(in_channels=192, out_channels=384, kernel_size=3)\n",
    "        self.pool3 = nn.MaxPool2d(2)\n",
    "        \n",
    "        self.fc1 = nn.Linear(384 * 3 * 3, 128) \n",
    "        self.fc2 = nn.Linear(128, 26)    \n",
    "    \n",
    "    def forward(self, x):\n",
    "        x = self.conv1(x)\n",
    "        x = F.relu(x)\n",
    "        x = self.pool1(x)\n",
    "        \n",
    "        x = self.conv2(x)\n",
    "        x = F.relu(x)\n",
    "        x = self.pool2(x)\n",
    "        \n",
    "        x = self.conv3(x)\n",
    "        x = F.relu(x)\n",
    "                \n",
    "        x = x.view(x.size(0), -1)\n",
    "        x = F.relu(self.fc1(x))\n",
    "        x = self.fc2(x)\n",
    "        \n",
    "        return x\n",
    "    \n",
    "    def test(self, predictions, labels):\n",
    "        \n",
    "        self.eval()\n",
    "        correct = 0\n",
    "        for p, l in zip(predictions, labels):\n",
    "            if p == l:\n",
    "                correct += 1\n",
    "        \n",
    "        acc = correct / len(predictions)\n",
    "        print(\"Correct predictions: %5d / %5d (%5f)\" % (correct, len(predictions), acc))\n",
    "        \n",
    "    \n",
    "    def evaluate(self, predictions, labels):\n",
    "                \n",
    "        correct = 0\n",
    "        for p, l in zip(predictions, labels):\n",
    "            if p == l:\n",
    "                correct += 1\n",
    "        \n",
    "        acc = correct / len(predictions)\n",
    "        return(acc)"
   ]
  },
  {
   "cell_type": "code",
   "execution_count": null,
   "metadata": {
    "_uuid": "d95d34b99a60a2963ed6ae9b111535ce12184827"
   },
   "outputs": [],
   "source": [
    "net = Network().to(pytorch_device)\n",
    "print(net)"
   ]
  },
  {
   "cell_type": "code",
   "execution_count": null,
   "metadata": {
    "_uuid": "23310c472a9da59c110dfdf782c386e2dbdfbc00"
   },
   "outputs": [],
   "source": [
    "optimizer = optim.SGD(net.parameters(), lr=learning_rate, momentum=momentum)\n",
    "criterion = nn.CrossEntropyLoss()"
   ]
  },
  {
   "cell_type": "code",
   "execution_count": null,
   "metadata": {
    "_uuid": "338d09d571b860bf415ee706f08e9295d937bfe2"
   },
   "outputs": [],
   "source": [
    "loss_log = []\n",
    "acc_log = []\n",
    "\n",
    "for e in range(epochs):\n",
    "    for i in range(0, x.shape[0], batch_size):\n",
    "        x_mini = x[i:i + batch_size].to(pytorch_device)\n",
    "        y_mini = y[i:i + batch_size].to(pytorch_device)\n",
    "        \n",
    "        optimizer.zero_grad()\n",
    "        net_out = net(Variable(x_mini))\n",
    "        \n",
    "        loss = criterion(net_out, Variable(y_mini))\n",
    "        loss.backward()\n",
    "        optimizer.step()\n",
    "        \n",
    "        if i % 1000 == 0:\n",
    "            #pred = net(Variable(test_data_formated))\n",
    "            loss_log.append(loss.item())\n",
    "            acc_log.append(net.evaluate(torch.max(net(Variable(test_data_formated[:500].to(pytorch_device))).data, 1)[1], \n",
    "                                        test_labels[:500].to(pytorch_device)))\n",
    "        \n",
    "    print('Epoch: {} - Loss: {:.6f}'.format(e + 1, loss.item()))"
   ]
  },
  {
   "cell_type": "markdown",
   "metadata": {
    "_uuid": "fb34989740706e769aa7adbb8c7be5ee04a93dbc"
   },
   "source": [
    "Blue line represents the loss function, and the orange one represents the accuracy."
   ]
  },
  {
   "cell_type": "code",
   "execution_count": null,
   "metadata": {
    "_uuid": "b7f62671f0ce5ce4a227db6d2a66c1f52756b2c0"
   },
   "outputs": [],
   "source": [
    "import matplotlib.pyplot as plt\n",
    "%matplotlib inline\n",
    "\n",
    "plt.figure(figsize=(10,8))\n",
    "plt.plot(loss_log[2:])\n",
    "plt.plot(acc_log)\n",
    "plt.plot(np.ones(len(acc_log)), linestyle='dashed')\n",
    "plt.legend(loc='lower right', fontsize=10)"
   ]
  },
  {
   "cell_type": "code",
   "execution_count": null,
   "metadata": {
    "_uuid": "c5837d40d9d3c176564bed6a15a04457ebf5cf32"
   },
   "outputs": [],
   "source": [
    "plt.figure(figsize=(10, 8))\n",
    "\n",
    "sample = 30\n",
    "pixels = test_data[sample].reshape(28, 28)\n",
    "plt.subplot(221)\n",
    "sns.heatmap(data=pixels)\n",
    "lab = labels_test[sample]\n",
    "test_sample = torch.FloatTensor([test_data[sample].reshape(1, 28, 28).tolist()]).to(pytorch_device)\n",
    "test_var_sample = Variable(test_sample)\n",
    "net_out_sample = net(test_var_sample)\n",
    "\n",
    "print(\"Prediction: {}\".format(alph[torch.max(net_out_sample.data, 1)[1].cpu().numpy()[0]]))\n",
    "print(\"Actual Label: {}\".format(alph[lab]))\n",
    "\n",
    "sample = 42\n",
    "pixels = test_data[sample].reshape(28, 28)\n",
    "plt.subplot(222)\n",
    "sns.heatmap(data=pixels)\n",
    "lab = labels_test[sample]\n",
    "test_sample = torch.FloatTensor([test_data[sample].reshape(1, 28, 28).tolist()]).to(pytorch_device)\n",
    "test_var_sample = Variable(test_sample)\n",
    "net_out_sample = net(test_var_sample)\n",
    "\n",
    "print(\"Prediction: {}\".format(alph[torch.max(net_out_sample.data, 1)[1].cpu().numpy()[0]]))\n",
    "print(\"Actual Label: {}\".format(alph[lab]))\n",
    "\n",
    "sample = 100\n",
    "pixels = test_data[sample].reshape(28, 28)\n",
    "plt.subplot(223)\n",
    "sns.heatmap(data=pixels)\n",
    "lab = labels_test[sample]\n",
    "test_sample = torch.FloatTensor([test_data[sample].reshape(1, 28, 28).tolist()]).to(pytorch_device)\n",
    "test_var_sample = Variable(test_sample)\n",
    "net_out_sample = net(test_var_sample)\n",
    "\n",
    "print(\"Prediction: {}\".format(alph[torch.max(net_out_sample.data, 1)[1].cpu().numpy()[0]]))\n",
    "print(\"Actual Label: {}\".format(alph[lab]))\n",
    "\n",
    "sample = 22\n",
    "pixels = test_data[sample].reshape(28, 28)\n",
    "plt.subplot(224)\n",
    "sns.heatmap(data=pixels)\n",
    "lab = labels_test[sample]\n",
    "test_sample = torch.FloatTensor([test_data[sample].reshape(1, 28, 28).tolist()]).to(pytorch_device)\n",
    "test_var_sample = Variable(test_sample)\n",
    "net_out_sample = net(test_var_sample)\n",
    "\n",
    "print(\"Prediction: {}\".format(alph[torch.max(net_out_sample.data, 1)[1].cpu().numpy()[0]]))\n",
    "print(\"Actual Label: {}\".format(alph[lab]))"
   ]
  },
  {
   "cell_type": "code",
   "execution_count": null,
   "metadata": {
    "_uuid": "e856cd55aa56163609ea3162a35a08c28f52539b"
   },
   "outputs": [],
   "source": [
    "torch.cuda.empty_cache()\n",
    "\n",
    "predictions = net(Variable(test_data_formated.to(pytorch_device)))\n",
    "net.test(torch.max(predictions.data, 1)[1], test_labels)"
   ]
  },
  {
   "cell_type": "code",
   "execution_count": null,
   "metadata": {},
   "outputs": [],
   "source": [
    "torch.cuda.memory_summary(device=pytorch_device)"
   ]
  },
  {
   "cell_type": "code",
   "execution_count": null,
   "metadata": {},
   "outputs": [],
   "source": [
    "torch.cuda.memory_allocated(device=None)"
   ]
  },
  {
   "cell_type": "code",
   "execution_count": null,
   "metadata": {},
   "outputs": [],
   "source": []
  }
 ],
 "metadata": {
  "kernelspec": {
   "display_name": "Python 3",
   "language": "python",
   "name": "python3"
  },
  "language_info": {
   "codemirror_mode": {
    "name": "ipython",
    "version": 3
   },
   "file_extension": ".py",
   "mimetype": "text/x-python",
   "name": "python",
   "nbconvert_exporter": "python",
   "pygments_lexer": "ipython3",
   "version": "3.7.7"
  }
 },
 "nbformat": 4,
 "nbformat_minor": 1
}
