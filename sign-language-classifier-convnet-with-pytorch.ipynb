{
 "cells": [
  {
   "cell_type": "markdown",
   "metadata": {
    "_uuid": "fe2afb62c6d3a9c55a79f07b8ef63ef0d5fbc186"
   },
   "source": [
    "In this work I classify images of sign language letters with convolutional network using PyTorch. \n",
    "\n",
    "First, let's import everything we need for work: "
   ]
  },
  {
   "cell_type": "code",
   "execution_count": 1,
   "metadata": {
    "_uuid": "ce55214b9aab4f60c0923ff91d51fc3828d81911"
   },
   "outputs": [],
   "source": [
    "import os\n",
    "import random\n",
    "import numpy as np\n",
    "\n",
    "import pandas as pd\n",
    "import matplotlib.pyplot as plt\n",
    "import seaborn as sns\n",
    "\n",
    "import torch\n",
    "import torchvision\n",
    "import torch.nn as nn\n",
    "import torch.nn.functional as F\n",
    "import torch.optim as optim\n",
    "from torch.autograd import Variable\n",
    "\n",
    "%matplotlib inline"
   ]
  },
  {
   "cell_type": "code",
   "execution_count": 2,
   "metadata": {},
   "outputs": [
    {
     "name": "stdout",
     "output_type": "stream",
     "text": [
      "cuda:0\n"
     ]
    }
   ],
   "source": [
    "pytorch_device = torch.device(\"cuda:0\" if torch.cuda.is_available() else \"cpu\")\n",
    "print(pytorch_device)"
   ]
  },
  {
   "cell_type": "code",
   "execution_count": 3,
   "metadata": {
    "_uuid": "bbb6055136327e8b369706765d706ee97cc15a4e"
   },
   "outputs": [
    {
     "data": {
      "text/html": [
       "<div>\n",
       "<style scoped>\n",
       "    .dataframe tbody tr th:only-of-type {\n",
       "        vertical-align: middle;\n",
       "    }\n",
       "\n",
       "    .dataframe tbody tr th {\n",
       "        vertical-align: top;\n",
       "    }\n",
       "\n",
       "    .dataframe thead th {\n",
       "        text-align: right;\n",
       "    }\n",
       "</style>\n",
       "<table border=\"1\" class=\"dataframe\">\n",
       "  <thead>\n",
       "    <tr style=\"text-align: right;\">\n",
       "      <th></th>\n",
       "      <th>pixel1</th>\n",
       "      <th>pixel2</th>\n",
       "      <th>pixel3</th>\n",
       "      <th>pixel4</th>\n",
       "      <th>pixel5</th>\n",
       "      <th>pixel6</th>\n",
       "      <th>pixel7</th>\n",
       "      <th>pixel8</th>\n",
       "      <th>pixel9</th>\n",
       "      <th>pixel10</th>\n",
       "      <th>...</th>\n",
       "      <th>pixel775</th>\n",
       "      <th>pixel776</th>\n",
       "      <th>pixel777</th>\n",
       "      <th>pixel778</th>\n",
       "      <th>pixel779</th>\n",
       "      <th>pixel780</th>\n",
       "      <th>pixel781</th>\n",
       "      <th>pixel782</th>\n",
       "      <th>pixel783</th>\n",
       "      <th>pixel784</th>\n",
       "    </tr>\n",
       "  </thead>\n",
       "  <tbody>\n",
       "    <tr>\n",
       "      <th>0</th>\n",
       "      <td>107</td>\n",
       "      <td>118</td>\n",
       "      <td>127</td>\n",
       "      <td>134</td>\n",
       "      <td>139</td>\n",
       "      <td>143</td>\n",
       "      <td>146</td>\n",
       "      <td>150</td>\n",
       "      <td>153</td>\n",
       "      <td>156</td>\n",
       "      <td>...</td>\n",
       "      <td>207</td>\n",
       "      <td>207</td>\n",
       "      <td>207</td>\n",
       "      <td>207</td>\n",
       "      <td>206</td>\n",
       "      <td>206</td>\n",
       "      <td>206</td>\n",
       "      <td>204</td>\n",
       "      <td>203</td>\n",
       "      <td>202</td>\n",
       "    </tr>\n",
       "    <tr>\n",
       "      <th>1</th>\n",
       "      <td>155</td>\n",
       "      <td>157</td>\n",
       "      <td>156</td>\n",
       "      <td>156</td>\n",
       "      <td>156</td>\n",
       "      <td>157</td>\n",
       "      <td>156</td>\n",
       "      <td>158</td>\n",
       "      <td>158</td>\n",
       "      <td>157</td>\n",
       "      <td>...</td>\n",
       "      <td>69</td>\n",
       "      <td>149</td>\n",
       "      <td>128</td>\n",
       "      <td>87</td>\n",
       "      <td>94</td>\n",
       "      <td>163</td>\n",
       "      <td>175</td>\n",
       "      <td>103</td>\n",
       "      <td>135</td>\n",
       "      <td>149</td>\n",
       "    </tr>\n",
       "    <tr>\n",
       "      <th>2</th>\n",
       "      <td>187</td>\n",
       "      <td>188</td>\n",
       "      <td>188</td>\n",
       "      <td>187</td>\n",
       "      <td>187</td>\n",
       "      <td>186</td>\n",
       "      <td>187</td>\n",
       "      <td>188</td>\n",
       "      <td>187</td>\n",
       "      <td>186</td>\n",
       "      <td>...</td>\n",
       "      <td>202</td>\n",
       "      <td>201</td>\n",
       "      <td>200</td>\n",
       "      <td>199</td>\n",
       "      <td>198</td>\n",
       "      <td>199</td>\n",
       "      <td>198</td>\n",
       "      <td>195</td>\n",
       "      <td>194</td>\n",
       "      <td>195</td>\n",
       "    </tr>\n",
       "    <tr>\n",
       "      <th>3</th>\n",
       "      <td>211</td>\n",
       "      <td>211</td>\n",
       "      <td>212</td>\n",
       "      <td>212</td>\n",
       "      <td>211</td>\n",
       "      <td>210</td>\n",
       "      <td>211</td>\n",
       "      <td>210</td>\n",
       "      <td>210</td>\n",
       "      <td>211</td>\n",
       "      <td>...</td>\n",
       "      <td>235</td>\n",
       "      <td>234</td>\n",
       "      <td>233</td>\n",
       "      <td>231</td>\n",
       "      <td>230</td>\n",
       "      <td>226</td>\n",
       "      <td>225</td>\n",
       "      <td>222</td>\n",
       "      <td>229</td>\n",
       "      <td>163</td>\n",
       "    </tr>\n",
       "    <tr>\n",
       "      <th>4</th>\n",
       "      <td>164</td>\n",
       "      <td>167</td>\n",
       "      <td>170</td>\n",
       "      <td>172</td>\n",
       "      <td>176</td>\n",
       "      <td>179</td>\n",
       "      <td>180</td>\n",
       "      <td>184</td>\n",
       "      <td>185</td>\n",
       "      <td>186</td>\n",
       "      <td>...</td>\n",
       "      <td>92</td>\n",
       "      <td>105</td>\n",
       "      <td>105</td>\n",
       "      <td>108</td>\n",
       "      <td>133</td>\n",
       "      <td>163</td>\n",
       "      <td>157</td>\n",
       "      <td>163</td>\n",
       "      <td>164</td>\n",
       "      <td>179</td>\n",
       "    </tr>\n",
       "  </tbody>\n",
       "</table>\n",
       "<p>5 rows × 784 columns</p>\n",
       "</div>"
      ],
      "text/plain": [
       "   pixel1  pixel2  pixel3  pixel4  pixel5  pixel6  pixel7  pixel8  pixel9  \\\n",
       "0     107     118     127     134     139     143     146     150     153   \n",
       "1     155     157     156     156     156     157     156     158     158   \n",
       "2     187     188     188     187     187     186     187     188     187   \n",
       "3     211     211     212     212     211     210     211     210     210   \n",
       "4     164     167     170     172     176     179     180     184     185   \n",
       "\n",
       "   pixel10  ...  pixel775  pixel776  pixel777  pixel778  pixel779  pixel780  \\\n",
       "0      156  ...       207       207       207       207       206       206   \n",
       "1      157  ...        69       149       128        87        94       163   \n",
       "2      186  ...       202       201       200       199       198       199   \n",
       "3      211  ...       235       234       233       231       230       226   \n",
       "4      186  ...        92       105       105       108       133       163   \n",
       "\n",
       "   pixel781  pixel782  pixel783  pixel784  \n",
       "0       206       204       203       202  \n",
       "1       175       103       135       149  \n",
       "2       198       195       194       195  \n",
       "3       225       222       229       163  \n",
       "4       157       163       164       179  \n",
       "\n",
       "[5 rows x 784 columns]"
      ]
     },
     "execution_count": 3,
     "metadata": {},
     "output_type": "execute_result"
    }
   ],
   "source": [
    "data_raw = pd.read_csv('./sign_mnist_train.csv', sep=\",\")\n",
    "test_data_raw = pd.read_csv('./sign_mnist_test.csv', sep=\",\")\n",
    "\n",
    "labels = data_raw['label']\n",
    "data_raw.drop('label', axis=1, inplace=True)\n",
    "labels_test = test_data_raw['label']\n",
    "test_data_raw.drop('label', axis=1, inplace=True)\n",
    "\n",
    "data = data_raw.values\n",
    "labels = labels.values\n",
    "test_data = test_data_raw.values\n",
    "labels_test = labels_test.values\n",
    "\n",
    "data_raw.head()"
   ]
  },
  {
   "cell_type": "code",
   "execution_count": 4,
   "metadata": {
    "_uuid": "9cbb2039b83c25881b8f454b04517a25a69d8129"
   },
   "outputs": [
    {
     "data": {
      "text/plain": [
       "<matplotlib.axes._subplots.AxesSubplot at 0x172bf8dd808>"
      ]
     },
     "execution_count": 4,
     "metadata": {},
     "output_type": "execute_result"
    },
    {
     "data": {
      "image/png": "[encoded data removed]",
      "text/plain": [
       "<Figure size 720x576 with 8 Axes>"
      ]
     },
     "metadata": {
      "needs_background": "light"
     },
     "output_type": "display_data"
    }
   ],
   "source": [
    "plt.figure(figsize=(10, 8))\n",
    "\n",
    "pixels = data[10].reshape(28, 28)\n",
    "plt.subplot(221)\n",
    "sns.heatmap(data=pixels)\n",
    "\n",
    "pixels = data[11].reshape(28, 28)\n",
    "plt.subplot(222)\n",
    "sns.heatmap(data=pixels)\n",
    "\n",
    "pixels = data[20].reshape(28, 28)\n",
    "plt.subplot(223)\n",
    "sns.heatmap(data=pixels)\n",
    "\n",
    "pixels = data[32].reshape(28, 28)\n",
    "plt.subplot(224)\n",
    "sns.heatmap(data=pixels)"
   ]
  },
  {
   "cell_type": "code",
   "execution_count": 5,
   "metadata": {
    "_uuid": "c2ae9f93e79d62db9ce744a3166ffed5d00455ec"
   },
   "outputs": [],
   "source": [
    "import string\n",
    "\n",
    "alph = {0:'a', 1:'b', 2:'c', 3:'d', 4:'e', 5:\"f\", 6:'g', 7:'h', 8:'i', 9:'j', 10:'k', 11:'l', 12:'m', 13:'n',\n",
    "        14:'o', 15:'p', 16:'q', 17:'r', 18:'s', 19:'t', 20:'u', 21:'v', 22:'w', 23:'x', 24:'y', 25:'z'}"
   ]
  },
  {
   "cell_type": "code",
   "execution_count": 6,
   "metadata": {
    "_uuid": "5585b1cd3e26251e75472acc7077207fccb040c4"
   },
   "outputs": [],
   "source": [
    "def reshape_to_2d(data, dim):\n",
    "    reshaped = []\n",
    "    for i in data:\n",
    "        reshaped.append(i.reshape(1, dim, dim))\n",
    "\n",
    "    return np.array(reshaped)"
   ]
  },
  {
   "cell_type": "code",
   "execution_count": 7,
   "metadata": {
    "_uuid": "22413bb7576315252946b7e70fb0c61436a52250"
   },
   "outputs": [],
   "source": [
    "data = reshape_to_2d(data, 28)\n",
    "\n",
    "x = torch.FloatTensor(data)\n",
    "y = torch.LongTensor(labels.tolist())\n",
    "\n",
    "test_labels = torch.LongTensor(labels_test.tolist())\n",
    "\n",
    "test_data_formated = reshape_to_2d(test_data, 28)\n",
    "test_data_formated = torch.FloatTensor(test_data_formated)"
   ]
  },
  {
   "cell_type": "code",
   "execution_count": 8,
   "metadata": {
    "_uuid": "c91ee5874a8f7d42bbc1937de0e372e19470eb88"
   },
   "outputs": [],
   "source": [
    "epochs = 50\n",
    "batch_size = 200\n",
    "learning_rate = 0.003\n",
    "momentum = 0.7\n",
    "num_classes = 26"
   ]
  },
  {
   "cell_type": "code",
   "execution_count": 9,
   "metadata": {
    "_uuid": "4a2b720cba67b494514400a97ff55d3a272233e6"
   },
   "outputs": [],
   "source": [
    "class Network(nn.Module): \n",
    "    \n",
    "    def __init__(self):\n",
    "        super(Network, self).__init__()\n",
    "        self.conv1 = nn.Conv2d(in_channels=1, out_channels=32, kernel_size=3)\n",
    "        self.pool1 = nn.MaxPool2d(2)\n",
    "        \n",
    "        self.conv2 = nn.Conv2d(in_channels=32, out_channels=64, kernel_size=3)\n",
    "        self.pool2 = nn.MaxPool2d(2)\n",
    "        \n",
    "        self.conv3 = nn.Conv2d(in_channels=64, out_channels=128, kernel_size=3)\n",
    "        self.pool3 = nn.MaxPool2d(2)\n",
    "        \n",
    "        self.fc1 = nn.Linear(128 * 3 * 3, 128) \n",
    "        self.fc2 = nn.Linear(128, 26)    \n",
    "    \n",
    "    def forward(self, x):\n",
    "        x = self.conv1(x)\n",
    "        x = F.relu(x)\n",
    "        x = self.pool1(x)\n",
    "        \n",
    "        x = self.conv2(x)\n",
    "        x = F.relu(x)\n",
    "        x = self.pool2(x)\n",
    "        \n",
    "        x = self.conv3(x)\n",
    "        x = F.relu(x)\n",
    "                \n",
    "        x = x.view(x.size(0), -1)\n",
    "        x = F.relu(self.fc1(x))\n",
    "        x = self.fc2(x)\n",
    "        \n",
    "        return x\n",
    "    \n",
    "    def test(self, predictions, labels):\n",
    "        \n",
    "        self.eval()\n",
    "        correct = 0\n",
    "        for p, l in zip(predictions, labels):\n",
    "            if p == l:\n",
    "                correct += 1\n",
    "        \n",
    "        acc = correct / len(predictions)\n",
    "        print(\"Correct predictions: %5d / %5d (%5f)\" % (correct, len(predictions), acc))\n",
    "        \n",
    "    \n",
    "    def evaluate(self, predictions, labels):\n",
    "                \n",
    "        correct = 0\n",
    "        for p, l in zip(predictions, labels):\n",
    "            if p == l:\n",
    "                correct += 1\n",
    "        \n",
    "        acc = correct / len(predictions)\n",
    "        return(acc)"
   ]
  },
  {
   "cell_type": "code",
   "execution_count": 10,
   "metadata": {
    "_uuid": "d95d34b99a60a2963ed6ae9b111535ce12184827"
   },
   "outputs": [
    {
     "name": "stdout",
     "output_type": "stream",
     "text": [
      "Network(\n",
      "  (conv1): Conv2d(1, 32, kernel_size=(3, 3), stride=(1, 1))\n",
      "  (pool1): MaxPool2d(kernel_size=2, stride=2, padding=0, dilation=1, ceil_mode=False)\n",
      "  (conv2): Conv2d(32, 64, kernel_size=(3, 3), stride=(1, 1))\n",
      "  (pool2): MaxPool2d(kernel_size=2, stride=2, padding=0, dilation=1, ceil_mode=False)\n",
      "  (conv3): Conv2d(64, 128, kernel_size=(3, 3), stride=(1, 1))\n",
      "  (pool3): MaxPool2d(kernel_size=2, stride=2, padding=0, dilation=1, ceil_mode=False)\n",
      "  (fc1): Linear(in_features=1152, out_features=128, bias=True)\n",
      "  (fc2): Linear(in_features=128, out_features=26, bias=True)\n",
      ")\n"
     ]
    }
   ],
   "source": [
    "net = Network().to(pytorch_device)\n",
    "print(net)"
   ]
  },
  {
   "cell_type": "code",
   "execution_count": 11,
   "metadata": {
    "_uuid": "23310c472a9da59c110dfdf782c386e2dbdfbc00"
   },
   "outputs": [],
   "source": [
    "optimizer = optim.SGD(net.parameters(), lr=learning_rate, momentum=momentum)\n",
    "criterion = nn.CrossEntropyLoss()"
   ]
  },
  {
   "cell_type": "code",
   "execution_count": 12,
   "metadata": {
    "_uuid": "338d09d571b860bf415ee706f08e9295d937bfe2"
   },
   "outputs": [
    {
     "name": "stdout",
     "output_type": "stream",
     "text": [
      "Epoch: 1 - Loss: 0.582316\n",
      "Epoch: 2 - Loss: 0.136678\n",
      "Epoch: 3 - Loss: 0.025144\n",
      "Epoch: 4 - Loss: 0.011831\n",
      "Epoch: 5 - Loss: 0.007208\n",
      "Epoch: 6 - Loss: 0.004991\n",
      "Epoch: 7 - Loss: 0.003506\n",
      "Epoch: 8 - Loss: 0.002604\n",
      "Epoch: 9 - Loss: 0.002104\n",
      "Epoch: 10 - Loss: 0.001753\n",
      "Epoch: 11 - Loss: 0.001494\n",
      "Epoch: 12 - Loss: 0.001294\n",
      "Epoch: 13 - Loss: 0.001142\n",
      "Epoch: 14 - Loss: 0.001027\n",
      "Epoch: 15 - Loss: 0.000927\n",
      "Epoch: 16 - Loss: 0.000845\n",
      "Epoch: 17 - Loss: 0.000775\n",
      "Epoch: 18 - Loss: 0.000717\n",
      "Epoch: 19 - Loss: 0.000663\n",
      "Epoch: 20 - Loss: 0.000617\n",
      "Epoch: 21 - Loss: 0.000575\n",
      "Epoch: 22 - Loss: 0.000538\n",
      "Epoch: 23 - Loss: 0.000506\n",
      "Epoch: 24 - Loss: 0.000476\n",
      "Epoch: 25 - Loss: 0.000449\n",
      "Epoch: 26 - Loss: 0.000426\n",
      "Epoch: 27 - Loss: 0.000404\n",
      "Epoch: 28 - Loss: 0.000382\n",
      "Epoch: 29 - Loss: 0.000365\n",
      "Epoch: 30 - Loss: 0.000348\n",
      "Epoch: 31 - Loss: 0.000332\n",
      "Epoch: 32 - Loss: 0.000317\n",
      "Epoch: 33 - Loss: 0.000304\n",
      "Epoch: 34 - Loss: 0.000291\n",
      "Epoch: 35 - Loss: 0.000280\n",
      "Epoch: 36 - Loss: 0.000269\n",
      "Epoch: 37 - Loss: 0.000258\n",
      "Epoch: 38 - Loss: 0.000248\n",
      "Epoch: 39 - Loss: 0.000239\n",
      "Epoch: 40 - Loss: 0.000231\n",
      "Epoch: 41 - Loss: 0.000223\n",
      "Epoch: 42 - Loss: 0.000215\n",
      "Epoch: 43 - Loss: 0.000208\n",
      "Epoch: 44 - Loss: 0.000202\n",
      "Epoch: 45 - Loss: 0.000196\n",
      "Epoch: 46 - Loss: 0.000189\n",
      "Epoch: 47 - Loss: 0.000184\n",
      "Epoch: 48 - Loss: 0.000178\n",
      "Epoch: 49 - Loss: 0.000173\n",
      "Epoch: 50 - Loss: 0.000169\n"
     ]
    }
   ],
   "source": [
    "loss_log = []\n",
    "acc_log = []\n",
    "\n",
    "for e in range(epochs):\n",
    "    for i in range(0, x.shape[0], batch_size):\n",
    "        x_mini = x[i:i + batch_size].to(pytorch_device)\n",
    "        y_mini = y[i:i + batch_size].to(pytorch_device)\n",
    "        \n",
    "        optimizer.zero_grad()\n",
    "        net_out = net(Variable(x_mini))\n",
    "        \n",
    "        loss = criterion(net_out, Variable(y_mini))\n",
    "        loss.backward()\n",
    "        optimizer.step()\n",
    "        \n",
    "        if i % 1000 == 0:\n",
    "            #pred = net(Variable(test_data_formated))\n",
    "            loss_log.append(loss.item())\n",
    "            acc_log.append(net.evaluate(torch.max(net(Variable(test_data_formated[:500].to(pytorch_device))).data, 1)[1], \n",
    "                                        test_labels[:500].to(pytorch_device)))\n",
    "        \n",
    "    print('Epoch: {} - Loss: {:.6f}'.format(e + 1, loss.item()))"
   ]
  },
  {
   "cell_type": "markdown",
   "metadata": {
    "_uuid": "fb34989740706e769aa7adbb8c7be5ee04a93dbc"
   },
   "source": [
    "Blue line represents the loss function, and the orange one represents the accuracy."
   ]
  },
  {
   "cell_type": "code",
   "execution_count": 13,
   "metadata": {
    "_uuid": "b7f62671f0ce5ce4a227db6d2a66c1f52756b2c0"
   },
   "outputs": [
    {
     "name": "stderr",
     "output_type": "stream",
     "text": [
      "No handles with labels found to put in legend.\n"
     ]
    },
    {
     "data": {
      "text/plain": [
       "<matplotlib.legend.Legend at 0x172bf942ac8>"
      ]
     },
     "execution_count": 13,
     "metadata": {},
     "output_type": "execute_result"
    },
    {
     "data": {
      "image/png": "[encoded data removed]",
      "text/plain": [
       "<Figure size 720x576 with 1 Axes>"
      ]
     },
     "metadata": {
      "needs_background": "light"
     },
     "output_type": "display_data"
    }
   ],
   "source": [
    "import matplotlib.pyplot as plt\n",
    "%matplotlib inline\n",
    "\n",
    "plt.figure(figsize=(10,8))\n",
    "plt.plot(loss_log[2:])\n",
    "plt.plot(acc_log)\n",
    "plt.plot(np.ones(len(acc_log)), linestyle='dashed')\n",
    "plt.legend(loc='lower right', fontsize=10)"
   ]
  },
  {
   "cell_type": "code",
   "execution_count": 14,
   "metadata": {
    "_uuid": "c5837d40d9d3c176564bed6a15a04457ebf5cf32"
   },
   "outputs": [
    {
     "name": "stdout",
     "output_type": "stream",
     "text": [
      "Prediction: h\n",
      "Actual Label: h\n",
      "Prediction: i\n",
      "Actual Label: i\n",
      "Prediction: i\n",
      "Actual Label: i\n",
      "Prediction: v\n",
      "Actual Label: v\n"
     ]
    },
    {
     "data": {
      "image/png": "[encoded data removed]",
      "text/plain": [
       "<Figure size 720x576 with 8 Axes>"
      ]
     },
     "metadata": {
      "needs_background": "light"
     },
     "output_type": "display_data"
    }
   ],
   "source": [
    "plt.figure(figsize=(10, 8))\n",
    "\n",
    "sample = 30\n",
    "pixels = test_data[sample].reshape(28, 28)\n",
    "plt.subplot(221)\n",
    "sns.heatmap(data=pixels)\n",
    "lab = labels_test[sample]\n",
    "test_sample = torch.FloatTensor([test_data[sample].reshape(1, 28, 28).tolist()]).to(pytorch_device)\n",
    "test_var_sample = Variable(test_sample)\n",
    "net_out_sample = net(test_var_sample)\n",
    "\n",
    "print(\"Prediction: {}\".format(alph[torch.max(net_out_sample.data, 1)[1].cpu().numpy()[0]]))\n",
    "print(\"Actual Label: {}\".format(alph[lab]))\n",
    "\n",
    "sample = 42\n",
    "pixels = test_data[sample].reshape(28, 28)\n",
    "plt.subplot(222)\n",
    "sns.heatmap(data=pixels)\n",
    "lab = labels_test[sample]\n",
    "test_sample = torch.FloatTensor([test_data[sample].reshape(1, 28, 28).tolist()]).to(pytorch_device)\n",
    "test_var_sample = Variable(test_sample)\n",
    "net_out_sample = net(test_var_sample)\n",
    "\n",
    "print(\"Prediction: {}\".format(alph[torch.max(net_out_sample.data, 1)[1].cpu().numpy()[0]]))\n",
    "print(\"Actual Label: {}\".format(alph[lab]))\n",
    "\n",
    "sample = 100\n",
    "pixels = test_data[sample].reshape(28, 28)\n",
    "plt.subplot(223)\n",
    "sns.heatmap(data=pixels)\n",
    "lab = labels_test[sample]\n",
    "test_sample = torch.FloatTensor([test_data[sample].reshape(1, 28, 28).tolist()]).to(pytorch_device)\n",
    "test_var_sample = Variable(test_sample)\n",
    "net_out_sample = net(test_var_sample)\n",
    "\n",
    "print(\"Prediction: {}\".format(alph[torch.max(net_out_sample.data, 1)[1].cpu().numpy()[0]]))\n",
    "print(\"Actual Label: {}\".format(alph[lab]))\n",
    "\n",
    "sample = 22\n",
    "pixels = test_data[sample].reshape(28, 28)\n",
    "plt.subplot(224)\n",
    "sns.heatmap(data=pixels)\n",
    "lab = labels_test[sample]\n",
    "test_sample = torch.FloatTensor([test_data[sample].reshape(1, 28, 28).tolist()]).to(pytorch_device)\n",
    "test_var_sample = Variable(test_sample)\n",
    "net_out_sample = net(test_var_sample)\n",
    "\n",
    "print(\"Prediction: {}\".format(alph[torch.max(net_out_sample.data, 1)[1].cpu().numpy()[0]]))\n",
    "print(\"Actual Label: {}\".format(alph[lab]))"
   ]
  },
  {
   "cell_type": "code",
   "execution_count": 15,
   "metadata": {
    "_uuid": "e856cd55aa56163609ea3162a35a08c28f52539b"
   },
   "outputs": [
    {
     "name": "stdout",
     "output_type": "stream",
     "text": [
      "Correct predictions:  6458 /  7172 (0.900446)\n"
     ]
    }
   ],
   "source": [
    "torch.cuda.empty_cache()\n",
    "\n",
    "predictions = net(Variable(test_data_formated.to(pytorch_device)))\n",
    "net.test(torch.max(predictions.data, 1)[1], test_labels)"
   ]
  },
  {
   "cell_type": "code",
   "execution_count": null,
   "metadata": {},
   "outputs": [],
   "source": []
  }
 ],
 "metadata": {
  "kernelspec": {
   "display_name": "Python 3",
   "language": "python",
   "name": "python3"
  },
  "language_info": {
   "codemirror_mode": {
    "name": "ipython",
    "version": 3
   },
   "file_extension": ".py",
   "mimetype": "text/x-python",
   "name": "python",
   "nbconvert_exporter": "python",
   "pygments_lexer": "ipython3",
   "version": "3.7.7"
  }
 },
 "nbformat": 4,
 "nbformat_minor": 1
}
